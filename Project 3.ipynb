{
 "cells": [
  {
   "cell_type": "markdown",
   "id": "b5e90503-82fa-4da9-b8d9-67dc8c8c596f",
   "metadata": {},
   "source": [
    "# NYC 311 calls Data Analysis\n",
    "\n",
    "NYC 311 is a service that provides access to non-emergency City services and info about City government programs to the residents of New York.  Each year, the service receives millions of requests reporting various kinds of problems with city services and other issues.\n",
    "\n",
    "The data on the type of calls received, and their ultimate resolution is made available through the NYC Open Data portal at https://data.cityofnewyork.us/Social-Services/311-Service-Requests-from-2010-to-Present/erm2-nwe9. The data is updated daily.  \n"
   ]
  },
  {
   "cell_type": "code",
   "execution_count": 1,
   "id": "4f54a131-ad9e-418e-b5c3-a7402a21e884",
   "metadata": {},
   "outputs": [],
   "source": [
    "import pandas as pd\n",
    "import numpy as np\n",
    "import matplotlib.pyplot as plt\n",
    "import seaborn as sns"
   ]
  },
  {
   "cell_type": "markdown",
   "id": "699ea18e-872d-45fb-849e-c48289774c72",
   "metadata": {},
   "source": [
    "## Exploring the data"
   ]
  },
  {
   "cell_type": "code",
   "execution_count": 2,
   "id": "1f6e7ef4-0a87-463d-9480-2d5bb1897a77",
   "metadata": {
    "scrolled": true
   },
   "outputs": [],
   "source": [
    "NYC_311 = pd.read_pickle(r\"C:\\Users\\deepak\\OneDrive\\Desktop\\Academics\\Business Analytics\\Project-3_NYC_311_Calls.pkl\")"
   ]
  },
  {
   "cell_type": "code",
   "execution_count": 3,
   "id": "d3bd9a21-df25-411c-a875-59e58809e54b",
   "metadata": {},
   "outputs": [],
   "source": [
    "NYC_311 = NYC_311.set_index(pd.DatetimeIndex(NYC_311['Created Date']))\n",
    "del NYC_311['Created Date']\n"
   ]
  },
  {
   "cell_type": "markdown",
   "id": "01a55ab5-459b-46fc-ab08-5727d29eb636",
   "metadata": {},
   "source": [
    "#### What is the average number of daily complaints received in 2022?"
   ]
  },
  {
   "cell_type": "code",
   "execution_count": 4,
   "id": "d0ff7fb1-62b8-410f-aed9-18a8b5b868bd",
   "metadata": {},
   "outputs": [],
   "source": [
    "df_2022 = NYC_311.loc['2022']"
   ]
  },
  {
   "cell_type": "code",
   "execution_count": 5,
   "id": "d94b723c-31d1-472f-bd32-b85e5782e382",
   "metadata": {},
   "outputs": [
    {
     "data": {
      "text/plain": [
       "8684.320547945206"
      ]
     },
     "execution_count": 5,
     "metadata": {},
     "output_type": "execute_result"
    }
   ],
   "source": [
    "df_2022.resample(\"D\").size().mean()"
   ]
  },
  {
   "cell_type": "markdown",
   "id": "715c53cc-e08b-409e-a125-be1d052dc530",
   "metadata": {},
   "source": [
    "#### On which single date were the maximum number of calls received?"
   ]
  },
  {
   "cell_type": "code",
   "execution_count": 6,
   "id": "2d96c8be-7c49-49d6-8b13-873308e35908",
   "metadata": {},
   "outputs": [],
   "source": [
    "single_date = NYC_311.resample('D').size()"
   ]
  },
  {
   "cell_type": "code",
   "execution_count": 14,
   "id": "d7876c21",
   "metadata": {},
   "outputs": [
    {
     "data": {
      "text/plain": [
       "Timestamp('2020-08-04 00:00:00', freq='D')"
      ]
     },
     "execution_count": 14,
     "metadata": {},
     "output_type": "execute_result"
    }
   ],
   "source": [
    "single_date.idxmax()"
   ]
  },
  {
   "cell_type": "markdown",
   "id": "bbc091c8-28c6-48a6-83c0-3059ac57ec29",
   "metadata": {},
   "source": [
    "#### On the date the maximum number of calls were received, what was the most important complaint type?"
   ]
  },
  {
   "cell_type": "code",
   "execution_count": 16,
   "id": "7f00b756-f2be-41c0-b901-6ac6c8cb9518",
   "metadata": {},
   "outputs": [],
   "source": [
    "important_complaint = NYC_311.loc['2020-08-04']"
   ]
  },
  {
   "cell_type": "code",
   "execution_count": 19,
   "id": "2039ab39",
   "metadata": {},
   "outputs": [
    {
     "data": {
      "text/plain": [
       "Damaged Tree                           14863\n",
       "Noise - Residential                      982\n",
       "Request Large Bulky Item Collection      909\n",
       "Street Light Condition                   617\n",
       "Overgrown Tree/Branches                  609\n",
       "                                       ...  \n",
       "Bus Stop Shelter Placement                 1\n",
       "Unsanitary Pigeon Condition                1\n",
       "Public Payphone Complaint                  1\n",
       "For Hire Vehicle Report                    1\n",
       "Bridge Condition                           1\n",
       "Name: Complaint Type, Length: 125, dtype: int64"
      ]
     },
     "execution_count": 19,
     "metadata": {},
     "output_type": "execute_result"
    }
   ],
   "source": [
    "important_complaint['Complaint Type'].value_counts()"
   ]
  },
  {
   "cell_type": "markdown",
   "id": "578a67d9-2e62-49f4-86a1-9e3dd571b46f",
   "metadata": {},
   "source": [
    "#### Quietest month: Group the data by months, and identify the month that historically has the fewest number of calls."
   ]
  },
  {
   "cell_type": "code",
   "execution_count": 30,
   "id": "2b6eb019",
   "metadata": {},
   "outputs": [
    {
     "data": {
      "text/html": [
       "<div>\n",
       "<style scoped>\n",
       "    .dataframe tbody tr th:only-of-type {\n",
       "        vertical-align: middle;\n",
       "    }\n",
       "\n",
       "    .dataframe tbody tr th {\n",
       "        vertical-align: top;\n",
       "    }\n",
       "\n",
       "    .dataframe thead th {\n",
       "        text-align: right;\n",
       "    }\n",
       "</style>\n",
       "<table border=\"1\" class=\"dataframe\">\n",
       "  <thead>\n",
       "    <tr style=\"text-align: right;\">\n",
       "      <th></th>\n",
       "      <th>Created Date</th>\n",
       "      <th>Unique Key</th>\n",
       "      <th>Agency</th>\n",
       "      <th>Agency Name</th>\n",
       "      <th>Complaint Type</th>\n",
       "      <th>Descriptor</th>\n",
       "      <th>Location Type</th>\n",
       "      <th>Incident Zip</th>\n",
       "      <th>City</th>\n",
       "      <th>Resolution Description</th>\n",
       "      <th>Borough</th>\n",
       "      <th>Open Data Channel Type</th>\n",
       "      <th>Month</th>\n",
       "    </tr>\n",
       "  </thead>\n",
       "  <tbody>\n",
       "    <tr>\n",
       "      <th>0</th>\n",
       "      <td>2011-04-06 00:00:00</td>\n",
       "      <td>20184537</td>\n",
       "      <td>HPD</td>\n",
       "      <td>Department of Housing Preservation and Develop...</td>\n",
       "      <td>HEATING</td>\n",
       "      <td>HEAT</td>\n",
       "      <td>RESIDENTIAL BUILDING</td>\n",
       "      <td>10002.0</td>\n",
       "      <td>NEW YORK</td>\n",
       "      <td>More than one complaint was received for this ...</td>\n",
       "      <td>MANHATTAN</td>\n",
       "      <td>UNKNOWN</td>\n",
       "      <td>4</td>\n",
       "    </tr>\n",
       "    <tr>\n",
       "      <th>1</th>\n",
       "      <td>2011-04-06 00:00:00</td>\n",
       "      <td>20184538</td>\n",
       "      <td>HPD</td>\n",
       "      <td>Department of Housing Preservation and Develop...</td>\n",
       "      <td>GENERAL CONSTRUCTION</td>\n",
       "      <td>WINDOWS</td>\n",
       "      <td>RESIDENTIAL BUILDING</td>\n",
       "      <td>11236.0</td>\n",
       "      <td>BROOKLYN</td>\n",
       "      <td>The Department of Housing Preservation and Dev...</td>\n",
       "      <td>BROOKLYN</td>\n",
       "      <td>UNKNOWN</td>\n",
       "      <td>4</td>\n",
       "    </tr>\n",
       "    <tr>\n",
       "      <th>2</th>\n",
       "      <td>2011-04-06 00:00:00</td>\n",
       "      <td>20184539</td>\n",
       "      <td>HPD</td>\n",
       "      <td>Department of Housing Preservation and Develop...</td>\n",
       "      <td>PAINT - PLASTER</td>\n",
       "      <td>WALLS</td>\n",
       "      <td>RESIDENTIAL BUILDING</td>\n",
       "      <td>10460.0</td>\n",
       "      <td>BRONX</td>\n",
       "      <td>The Department of Housing Preservation and Dev...</td>\n",
       "      <td>BRONX</td>\n",
       "      <td>UNKNOWN</td>\n",
       "      <td>4</td>\n",
       "    </tr>\n",
       "    <tr>\n",
       "      <th>3</th>\n",
       "      <td>2022-07-08 11:14:43</td>\n",
       "      <td>54732265</td>\n",
       "      <td>DSNY</td>\n",
       "      <td>Department of Sanitation</td>\n",
       "      <td>Dirty Condition</td>\n",
       "      <td>Trash</td>\n",
       "      <td>Sidewalk</td>\n",
       "      <td>10467.0</td>\n",
       "      <td>BRONX</td>\n",
       "      <td>The Department of Sanitation investigated this...</td>\n",
       "      <td>BRONX</td>\n",
       "      <td>PHONE</td>\n",
       "      <td>7</td>\n",
       "    </tr>\n",
       "    <tr>\n",
       "      <th>4</th>\n",
       "      <td>2011-04-06 00:00:00</td>\n",
       "      <td>20184540</td>\n",
       "      <td>HPD</td>\n",
       "      <td>Department of Housing Preservation and Develop...</td>\n",
       "      <td>NONCONST</td>\n",
       "      <td>VERMIN</td>\n",
       "      <td>RESIDENTIAL BUILDING</td>\n",
       "      <td>10460.0</td>\n",
       "      <td>BRONX</td>\n",
       "      <td>The Department of Housing Preservation and Dev...</td>\n",
       "      <td>BRONX</td>\n",
       "      <td>UNKNOWN</td>\n",
       "      <td>4</td>\n",
       "    </tr>\n",
       "    <tr>\n",
       "      <th>...</th>\n",
       "      <td>...</td>\n",
       "      <td>...</td>\n",
       "      <td>...</td>\n",
       "      <td>...</td>\n",
       "      <td>...</td>\n",
       "      <td>...</td>\n",
       "      <td>...</td>\n",
       "      <td>...</td>\n",
       "      <td>...</td>\n",
       "      <td>...</td>\n",
       "      <td>...</td>\n",
       "      <td>...</td>\n",
       "      <td>...</td>\n",
       "    </tr>\n",
       "    <tr>\n",
       "      <th>33780972</th>\n",
       "      <td>2011-04-06 00:00:00</td>\n",
       "      <td>20184532</td>\n",
       "      <td>HPD</td>\n",
       "      <td>Department of Housing Preservation and Develop...</td>\n",
       "      <td>HEATING</td>\n",
       "      <td>HEAT</td>\n",
       "      <td>RESIDENTIAL BUILDING</td>\n",
       "      <td>10468</td>\n",
       "      <td>BRONX</td>\n",
       "      <td>The Department of Housing Preservation and Dev...</td>\n",
       "      <td>BRONX</td>\n",
       "      <td>UNKNOWN</td>\n",
       "      <td>4</td>\n",
       "    </tr>\n",
       "    <tr>\n",
       "      <th>33780973</th>\n",
       "      <td>2011-04-06 00:00:00</td>\n",
       "      <td>20184533</td>\n",
       "      <td>HPD</td>\n",
       "      <td>Department of Housing Preservation and Develop...</td>\n",
       "      <td>HEATING</td>\n",
       "      <td>HEAT</td>\n",
       "      <td>RESIDENTIAL BUILDING</td>\n",
       "      <td>10018</td>\n",
       "      <td>NEW YORK</td>\n",
       "      <td>More than one complaint was received for this ...</td>\n",
       "      <td>MANHATTAN</td>\n",
       "      <td>UNKNOWN</td>\n",
       "      <td>4</td>\n",
       "    </tr>\n",
       "    <tr>\n",
       "      <th>33780974</th>\n",
       "      <td>2011-04-06 00:00:00</td>\n",
       "      <td>20184534</td>\n",
       "      <td>HPD</td>\n",
       "      <td>Department of Housing Preservation and Develop...</td>\n",
       "      <td>GENERAL CONSTRUCTION</td>\n",
       "      <td>STAIRS</td>\n",
       "      <td>RESIDENTIAL BUILDING</td>\n",
       "      <td>10460</td>\n",
       "      <td>BRONX</td>\n",
       "      <td>The Department of Housing Preservation and Dev...</td>\n",
       "      <td>BRONX</td>\n",
       "      <td>UNKNOWN</td>\n",
       "      <td>4</td>\n",
       "    </tr>\n",
       "    <tr>\n",
       "      <th>33780975</th>\n",
       "      <td>2011-04-06 00:00:00</td>\n",
       "      <td>20184535</td>\n",
       "      <td>HPD</td>\n",
       "      <td>Department of Housing Preservation and Develop...</td>\n",
       "      <td>GENERAL CONSTRUCTION</td>\n",
       "      <td>GAS</td>\n",
       "      <td>RESIDENTIAL BUILDING</td>\n",
       "      <td>11236</td>\n",
       "      <td>BROOKLYN</td>\n",
       "      <td>The Department of Housing Preservation and Dev...</td>\n",
       "      <td>BROOKLYN</td>\n",
       "      <td>UNKNOWN</td>\n",
       "      <td>4</td>\n",
       "    </tr>\n",
       "    <tr>\n",
       "      <th>33780976</th>\n",
       "      <td>2011-04-06 00:00:00</td>\n",
       "      <td>20184536</td>\n",
       "      <td>HPD</td>\n",
       "      <td>Department of Housing Preservation and Develop...</td>\n",
       "      <td>PLUMBING</td>\n",
       "      <td>WATER-LEAKS</td>\n",
       "      <td>RESIDENTIAL BUILDING</td>\n",
       "      <td>11236</td>\n",
       "      <td>BROOKLYN</td>\n",
       "      <td>The Department of Housing Preservation and Dev...</td>\n",
       "      <td>BROOKLYN</td>\n",
       "      <td>UNKNOWN</td>\n",
       "      <td>4</td>\n",
       "    </tr>\n",
       "  </tbody>\n",
       "</table>\n",
       "<p>33780977 rows × 13 columns</p>\n",
       "</div>"
      ],
      "text/plain": [
       "                Created Date  Unique Key Agency  \\\n",
       "0        2011-04-06 00:00:00    20184537    HPD   \n",
       "1        2011-04-06 00:00:00    20184538    HPD   \n",
       "2        2011-04-06 00:00:00    20184539    HPD   \n",
       "3        2022-07-08 11:14:43    54732265   DSNY   \n",
       "4        2011-04-06 00:00:00    20184540    HPD   \n",
       "...                      ...         ...    ...   \n",
       "33780972 2011-04-06 00:00:00    20184532    HPD   \n",
       "33780973 2011-04-06 00:00:00    20184533    HPD   \n",
       "33780974 2011-04-06 00:00:00    20184534    HPD   \n",
       "33780975 2011-04-06 00:00:00    20184535    HPD   \n",
       "33780976 2011-04-06 00:00:00    20184536    HPD   \n",
       "\n",
       "                                                Agency Name  \\\n",
       "0         Department of Housing Preservation and Develop...   \n",
       "1         Department of Housing Preservation and Develop...   \n",
       "2         Department of Housing Preservation and Develop...   \n",
       "3                                  Department of Sanitation   \n",
       "4         Department of Housing Preservation and Develop...   \n",
       "...                                                     ...   \n",
       "33780972  Department of Housing Preservation and Develop...   \n",
       "33780973  Department of Housing Preservation and Develop...   \n",
       "33780974  Department of Housing Preservation and Develop...   \n",
       "33780975  Department of Housing Preservation and Develop...   \n",
       "33780976  Department of Housing Preservation and Develop...   \n",
       "\n",
       "                Complaint Type   Descriptor         Location Type  \\\n",
       "0                      HEATING         HEAT  RESIDENTIAL BUILDING   \n",
       "1         GENERAL CONSTRUCTION      WINDOWS  RESIDENTIAL BUILDING   \n",
       "2              PAINT - PLASTER        WALLS  RESIDENTIAL BUILDING   \n",
       "3              Dirty Condition        Trash              Sidewalk   \n",
       "4                     NONCONST       VERMIN  RESIDENTIAL BUILDING   \n",
       "...                        ...          ...                   ...   \n",
       "33780972               HEATING         HEAT  RESIDENTIAL BUILDING   \n",
       "33780973               HEATING         HEAT  RESIDENTIAL BUILDING   \n",
       "33780974  GENERAL CONSTRUCTION       STAIRS  RESIDENTIAL BUILDING   \n",
       "33780975  GENERAL CONSTRUCTION          GAS  RESIDENTIAL BUILDING   \n",
       "33780976              PLUMBING  WATER-LEAKS  RESIDENTIAL BUILDING   \n",
       "\n",
       "         Incident Zip      City  \\\n",
       "0             10002.0  NEW YORK   \n",
       "1             11236.0  BROOKLYN   \n",
       "2             10460.0     BRONX   \n",
       "3             10467.0     BRONX   \n",
       "4             10460.0     BRONX   \n",
       "...               ...       ...   \n",
       "33780972        10468     BRONX   \n",
       "33780973        10018  NEW YORK   \n",
       "33780974        10460     BRONX   \n",
       "33780975        11236  BROOKLYN   \n",
       "33780976        11236  BROOKLYN   \n",
       "\n",
       "                                     Resolution Description    Borough  \\\n",
       "0         More than one complaint was received for this ...  MANHATTAN   \n",
       "1         The Department of Housing Preservation and Dev...   BROOKLYN   \n",
       "2         The Department of Housing Preservation and Dev...      BRONX   \n",
       "3         The Department of Sanitation investigated this...      BRONX   \n",
       "4         The Department of Housing Preservation and Dev...      BRONX   \n",
       "...                                                     ...        ...   \n",
       "33780972  The Department of Housing Preservation and Dev...      BRONX   \n",
       "33780973  More than one complaint was received for this ...  MANHATTAN   \n",
       "33780974  The Department of Housing Preservation and Dev...      BRONX   \n",
       "33780975  The Department of Housing Preservation and Dev...   BROOKLYN   \n",
       "33780976  The Department of Housing Preservation and Dev...   BROOKLYN   \n",
       "\n",
       "         Open Data Channel Type  Month  \n",
       "0                       UNKNOWN      4  \n",
       "1                       UNKNOWN      4  \n",
       "2                       UNKNOWN      4  \n",
       "3                         PHONE      7  \n",
       "4                       UNKNOWN      4  \n",
       "...                         ...    ...  \n",
       "33780972                UNKNOWN      4  \n",
       "33780973                UNKNOWN      4  \n",
       "33780974                UNKNOWN      4  \n",
       "33780975                UNKNOWN      4  \n",
       "33780976                UNKNOWN      4  \n",
       "\n",
       "[33780977 rows x 13 columns]"
      ]
     },
     "execution_count": 30,
     "metadata": {},
     "output_type": "execute_result"
    }
   ],
   "source": [
    "NYC_311"
   ]
  },
  {
   "cell_type": "code",
   "execution_count": 29,
   "id": "97299d0c",
   "metadata": {},
   "outputs": [],
   "source": [
    "NYC_311['Month'] = NYC_311['Created Date'].dt.month"
   ]
  },
  {
   "cell_type": "code",
   "execution_count": 33,
   "id": "21d9f311-de60-442d-81a6-0be58b644ec5",
   "metadata": {},
   "outputs": [
    {
     "data": {
      "text/plain": [
       "7     3111026\n",
       "6     3093442\n",
       "1     2994507\n",
       "5     2956598\n",
       "3     2868044\n",
       "8     2779862\n",
       "10    2766887\n",
       "9     2684271\n",
       "4     2672760\n",
       "11    2634749\n",
       "2     2621845\n",
       "12    2596986\n",
       "Name: Month, dtype: int64"
      ]
     },
     "execution_count": 33,
     "metadata": {},
     "output_type": "execute_result"
    }
   ],
   "source": [
    "NYC_311[\"Month\"].value_counts()"
   ]
  },
  {
   "cell_type": "markdown",
   "id": "7653e591-6879-41f3-aa70-b033e7a65e84",
   "metadata": {},
   "source": [
    "#### Resample your time series to a daily frequency.  Perform ETS decomposition based on an additive model.  What is the value of the seasonal component on 2020-12-25 (rounded to the nearest integer)?"
   ]
  },
  {
   "cell_type": "code",
   "execution_count": 34,
   "id": "00936ba1-6d9e-4059-87b4-1caa9fc56f26",
   "metadata": {},
   "outputs": [],
   "source": [
    "import matplotlib.pyplot as plt\n",
    "from statsmodels.tsa.seasonal import seasonal_decompose"
   ]
  },
  {
   "cell_type": "code",
   "execution_count": 36,
   "id": "fc08e7dc",
   "metadata": {},
   "outputs": [
    {
     "data": {
      "image/png": "[encoded data removed]",
      "text/plain": [
       "<Figure size 2000x900 with 4 Axes>"
      ]
     },
     "metadata": {},
     "output_type": "display_data"
    }
   ],
   "source": [
    "result = seasonal_decompose(single_date, model = 'additive')\n",
    "plt.rcParams['figure.figsize'] = (20, 9)\n",
    "result.plot();"
   ]
  },
  {
   "cell_type": "code",
   "execution_count": 44,
   "id": "6d292154",
   "metadata": {},
   "outputs": [],
   "source": [
    "ets = pd.DataFrame({'trend': result.trend, \n",
    "              'seasonality': result.seasonal, \n",
    "              'error': result.resid})"
   ]
  },
  {
   "cell_type": "code",
   "execution_count": 45,
   "id": "fe0e4d04",
   "metadata": {},
   "outputs": [],
   "source": [
    "ets.reset_index(inplace = True)"
   ]
  },
  {
   "cell_type": "code",
   "execution_count": 46,
   "id": "3617e402",
   "metadata": {},
   "outputs": [
    {
     "data": {
      "text/html": [
       "<div>\n",
       "<style scoped>\n",
       "    .dataframe tbody tr th:only-of-type {\n",
       "        vertical-align: middle;\n",
       "    }\n",
       "\n",
       "    .dataframe tbody tr th {\n",
       "        vertical-align: top;\n",
       "    }\n",
       "\n",
       "    .dataframe thead th {\n",
       "        text-align: right;\n",
       "    }\n",
       "</style>\n",
       "<table border=\"1\" class=\"dataframe\">\n",
       "  <thead>\n",
       "    <tr style=\"text-align: right;\">\n",
       "      <th></th>\n",
       "      <th>Created Date</th>\n",
       "      <th>trend</th>\n",
       "      <th>seasonality</th>\n",
       "      <th>error</th>\n",
       "    </tr>\n",
       "  </thead>\n",
       "  <tbody>\n",
       "    <tr>\n",
       "      <th>0</th>\n",
       "      <td>2010-01-01</td>\n",
       "      <td>NaN</td>\n",
       "      <td>182.697638</td>\n",
       "      <td>NaN</td>\n",
       "    </tr>\n",
       "    <tr>\n",
       "      <th>1</th>\n",
       "      <td>2010-01-02</td>\n",
       "      <td>NaN</td>\n",
       "      <td>-1096.197842</td>\n",
       "      <td>NaN</td>\n",
       "    </tr>\n",
       "    <tr>\n",
       "      <th>2</th>\n",
       "      <td>2010-01-03</td>\n",
       "      <td>NaN</td>\n",
       "      <td>-1320.055591</td>\n",
       "      <td>NaN</td>\n",
       "    </tr>\n",
       "    <tr>\n",
       "      <th>3</th>\n",
       "      <td>2010-01-04</td>\n",
       "      <td>6479.571429</td>\n",
       "      <td>634.158302</td>\n",
       "      <td>2649.270270</td>\n",
       "    </tr>\n",
       "    <tr>\n",
       "      <th>4</th>\n",
       "      <td>2010-01-05</td>\n",
       "      <td>6957.857143</td>\n",
       "      <td>694.951572</td>\n",
       "      <td>1082.191285</td>\n",
       "    </tr>\n",
       "    <tr>\n",
       "      <th>...</th>\n",
       "      <td>...</td>\n",
       "      <td>...</td>\n",
       "      <td>...</td>\n",
       "      <td>...</td>\n",
       "    </tr>\n",
       "    <tr>\n",
       "      <th>4959</th>\n",
       "      <td>2023-07-31</td>\n",
       "      <td>9356.714286</td>\n",
       "      <td>634.158302</td>\n",
       "      <td>-69.872587</td>\n",
       "    </tr>\n",
       "    <tr>\n",
       "      <th>4960</th>\n",
       "      <td>2023-08-01</td>\n",
       "      <td>8045.428571</td>\n",
       "      <td>694.951572</td>\n",
       "      <td>1072.619857</td>\n",
       "    </tr>\n",
       "    <tr>\n",
       "      <th>4961</th>\n",
       "      <td>2023-08-02</td>\n",
       "      <td>NaN</td>\n",
       "      <td>527.573748</td>\n",
       "      <td>NaN</td>\n",
       "    </tr>\n",
       "    <tr>\n",
       "      <th>4962</th>\n",
       "      <td>2023-08-03</td>\n",
       "      <td>NaN</td>\n",
       "      <td>376.872174</td>\n",
       "      <td>NaN</td>\n",
       "    </tr>\n",
       "    <tr>\n",
       "      <th>4963</th>\n",
       "      <td>2023-08-04</td>\n",
       "      <td>NaN</td>\n",
       "      <td>182.697638</td>\n",
       "      <td>NaN</td>\n",
       "    </tr>\n",
       "  </tbody>\n",
       "</table>\n",
       "<p>4964 rows × 4 columns</p>\n",
       "</div>"
      ],
      "text/plain": [
       "     Created Date        trend  seasonality        error\n",
       "0      2010-01-01          NaN   182.697638          NaN\n",
       "1      2010-01-02          NaN -1096.197842          NaN\n",
       "2      2010-01-03          NaN -1320.055591          NaN\n",
       "3      2010-01-04  6479.571429   634.158302  2649.270270\n",
       "4      2010-01-05  6957.857143   694.951572  1082.191285\n",
       "...           ...          ...          ...          ...\n",
       "4959   2023-07-31  9356.714286   634.158302   -69.872587\n",
       "4960   2023-08-01  8045.428571   694.951572  1072.619857\n",
       "4961   2023-08-02          NaN   527.573748          NaN\n",
       "4962   2023-08-03          NaN   376.872174          NaN\n",
       "4963   2023-08-04          NaN   182.697638          NaN\n",
       "\n",
       "[4964 rows x 4 columns]"
      ]
     },
     "execution_count": 46,
     "metadata": {},
     "output_type": "execute_result"
    }
   ],
   "source": [
    "ets"
   ]
  },
  {
   "cell_type": "code",
   "execution_count": 47,
   "id": "01e06e14",
   "metadata": {},
   "outputs": [
    {
     "data": {
      "text/html": [
       "<div>\n",
       "<style scoped>\n",
       "    .dataframe tbody tr th:only-of-type {\n",
       "        vertical-align: middle;\n",
       "    }\n",
       "\n",
       "    .dataframe tbody tr th {\n",
       "        vertical-align: top;\n",
       "    }\n",
       "\n",
       "    .dataframe thead th {\n",
       "        text-align: right;\n",
       "    }\n",
       "</style>\n",
       "<table border=\"1\" class=\"dataframe\">\n",
       "  <thead>\n",
       "    <tr style=\"text-align: right;\">\n",
       "      <th></th>\n",
       "      <th>Created Date</th>\n",
       "      <th>trend</th>\n",
       "      <th>seasonality</th>\n",
       "      <th>error</th>\n",
       "    </tr>\n",
       "  </thead>\n",
       "  <tbody>\n",
       "    <tr>\n",
       "      <th>4011</th>\n",
       "      <td>2020-12-25</td>\n",
       "      <td>6411.428571</td>\n",
       "      <td>182.697638</td>\n",
       "      <td>-1567.126209</td>\n",
       "    </tr>\n",
       "  </tbody>\n",
       "</table>\n",
       "</div>"
      ],
      "text/plain": [
       "     Created Date        trend  seasonality        error\n",
       "4011   2020-12-25  6411.428571   182.697638 -1567.126209"
      ]
     },
     "execution_count": 47,
     "metadata": {},
     "output_type": "execute_result"
    }
   ],
   "source": [
    "ets[ets['Created Date']=='2020-12-25']"
   ]
  },
  {
   "cell_type": "markdown",
   "id": "bd3f6e87-5073-4521-936a-eace9a85b6f1",
   "metadata": {},
   "source": [
    "#### Calculate the autocorrelation of the number of daily calls with the number of calls the day prior, ie lag of 1.  (Use the daily series)."
   ]
  },
  {
   "cell_type": "code",
   "execution_count": 48,
   "id": "6d7b3a49-6e5a-443c-8be3-eac69f8e39da",
   "metadata": {},
   "outputs": [
    {
     "data": {
      "text/plain": [
       "array([1.        , 0.75051424, 0.5385677 , 0.48763193, 0.47912318,\n",
       "       0.50367422, 0.65325166, 0.78735576, 0.64024251, 0.47810689,\n",
       "       0.4412852 , 0.43245455, 0.45933263, 0.61601086, 0.75916101,\n",
       "       0.61690178, 0.46145806, 0.4277244 , 0.42450554, 0.4555627 ,\n",
       "       0.61056881, 0.74821479, 0.60717727, 0.4484158 , 0.41633872,\n",
       "       0.41518982, 0.45040719, 0.59985602, 0.73376054, 0.59641813,\n",
       "       0.44172261, 0.4143002 , 0.41500839, 0.44366085, 0.59565884,\n",
       "       0.73652828, 0.59316864])"
      ]
     },
     "execution_count": 48,
     "metadata": {},
     "output_type": "execute_result"
    }
   ],
   "source": [
    "from statsmodels.tsa.stattools import acf\n",
    "acf(single_date)"
   ]
  },
  {
   "cell_type": "code",
   "execution_count": 51,
   "id": "688025b9",
   "metadata": {},
   "outputs": [
    {
     "data": {
      "text/plain": [
       "[(0, 1.0),\n",
       " (1, 0.7505142364756073),\n",
       " (2, 0.5385677005464163),\n",
       " (3, 0.4876319349471612),\n",
       " (4, 0.47912317586861014),\n",
       " (5, 0.5036742164042234),\n",
       " (6, 0.6532516645683314),\n",
       " (7, 0.7873557591053877),\n",
       " (8, 0.6402425082224174),\n",
       " (9, 0.4781068899314745),\n",
       " (10, 0.44128520422701517),\n",
       " (11, 0.43245454663032395),\n",
       " (12, 0.45933262752022097),\n",
       " (13, 0.6160108562208476),\n",
       " (14, 0.7591610121270015),\n",
       " (15, 0.6169017761087279),\n",
       " (16, 0.46145805728555667),\n",
       " (17, 0.4277243963001102),\n",
       " (18, 0.4245055433765635),\n",
       " (19, 0.45556269608625855),\n",
       " (20, 0.6105688068921138),\n",
       " (21, 0.7482147856274084),\n",
       " (22, 0.6071772694322987),\n",
       " (23, 0.44841580285332344),\n",
       " (24, 0.4163387168357927),\n",
       " (25, 0.4151898156499598),\n",
       " (26, 0.45040718958726733),\n",
       " (27, 0.5998560199396321),\n",
       " (28, 0.7337605423131681),\n",
       " (29, 0.5964181344488516),\n",
       " (30, 0.44172261087389936),\n",
       " (31, 0.41430019827396114),\n",
       " (32, 0.41500839499299474),\n",
       " (33, 0.443660849177503),\n",
       " (34, 0.5956588412234556),\n",
       " (35, 0.7365282791908934),\n",
       " (36, 0.5931686446827368)]"
      ]
     },
     "execution_count": 51,
     "metadata": {},
     "output_type": "execute_result"
    }
   ],
   "source": [
    "[(n,x ) for n, x in enumerate(acf(single_date))]"
   ]
  },
  {
   "cell_type": "markdown",
   "id": "cd26bb66-89e3-40f3-8e19-e7a100185234",
   "metadata": {},
   "source": [
    "#### Forecast the daily series with a test set of 90 days using the Prophet library.  What is your RMSE on your test set?"
   ]
  },
  {
   "cell_type": "code",
   "execution_count": 52,
   "id": "c0353014-820a-4064-90b6-d92f0ecd7eaf",
   "metadata": {},
   "outputs": [
    {
     "data": {
      "text/plain": [
       "(4964,)"
      ]
     },
     "execution_count": 52,
     "metadata": {},
     "output_type": "execute_result"
    }
   ],
   "source": [
    "single_date.shape"
   ]
  },
  {
   "cell_type": "code",
   "execution_count": 54,
   "id": "f9c6259a",
   "metadata": {},
   "outputs": [
    {
     "name": "stdout",
     "output_type": "stream",
     "text": [
      "Note: you may need to restart the kernel to use updated packages.Collecting prophet\n",
      "  Downloading prophet-1.1.5-py3-none-win_amd64.whl (13.3 MB)\n",
      "     ---------------------------------------- 13.3/13.3 MB 8.0 MB/s eta 0:00:00\n",
      "Requirement already satisfied: matplotlib>=2.0.0 in c:\\users\\deepak\\anaconda3\\lib\\site-packages (from prophet) (3.7.0)\n",
      "Requirement already satisfied: pandas>=1.0.4 in c:\\users\\deepak\\anaconda3\\lib\\site-packages (from prophet) (1.5.3)\n",
      "Requirement already satisfied: numpy>=1.15.4 in c:\\users\\deepak\\anaconda3\\lib\\site-packages (from prophet) (1.23.5)\n",
      "Collecting importlib-resources\n",
      "  Downloading importlib_resources-6.4.0-py3-none-any.whl (38 kB)\n",
      "Collecting holidays>=0.25\n",
      "  Downloading holidays-0.47-py3-none-any.whl (1.0 MB)\n",
      "     ---------------------------------------- 1.0/1.0 MB 9.2 MB/s eta 0:00:00\n",
      "Requirement already satisfied: tqdm>=4.36.1 in c:\\users\\deepak\\anaconda3\\lib\\site-packages (from prophet) (4.64.1)\n",
      "Collecting cmdstanpy>=1.0.4\n",
      "  Downloading cmdstanpy-1.2.2-py3-none-any.whl (94 kB)\n",
      "     ---------------------------------------- 94.4/94.4 kB 1.8 MB/s eta 0:00:00\n",
      "Collecting stanio<2.0.0,>=0.4.0\n",
      "  Downloading stanio-0.5.0-py3-none-any.whl (8.0 kB)\n",
      "Requirement already satisfied: python-dateutil in c:\\users\\deepak\\anaconda3\\lib\\site-packages (from holidays>=0.25->prophet) (2.8.2)\n",
      "Requirement already satisfied: kiwisolver>=1.0.1 in c:\\users\\deepak\\anaconda3\\lib\\site-packages (from matplotlib>=2.0.0->prophet) (1.4.4)\n",
      "Requirement already satisfied: packaging>=20.0 in c:\\users\\deepak\\anaconda3\\lib\\site-packages (from matplotlib>=2.0.0->prophet) (22.0)\n",
      "Requirement already satisfied: fonttools>=4.22.0 in c:\\users\\deepak\\anaconda3\\lib\\site-packages (from matplotlib>=2.0.0->prophet) (4.25.0)\n",
      "Requirement already satisfied: contourpy>=1.0.1 in c:\\users\\deepak\\anaconda3\\lib\\site-packages (from matplotlib>=2.0.0->prophet) (1.0.5)\n",
      "Requirement already satisfied: pillow>=6.2.0 in c:\\users\\deepak\\anaconda3\\lib\\site-packages (from matplotlib>=2.0.0->prophet) (9.4.0)\n",
      "Requirement already satisfied: pyparsing>=2.3.1 in c:\\users\\deepak\\anaconda3\\lib\\site-packages (from matplotlib>=2.0.0->prophet) (3.0.9)\n",
      "Requirement already satisfied: cycler>=0.10 in c:\\users\\deepak\\anaconda3\\lib\\site-packages (from matplotlib>=2.0.0->prophet) (0.11.0)\n",
      "Requirement already satisfied: pytz>=2020.1 in c:\\users\\deepak\\anaconda3\\lib\\site-packages (from pandas>=1.0.4->prophet) (2022.7)\n",
      "Requirement already satisfied: colorama in c:\\users\\deepak\\anaconda3\\lib\\site-packages (from tqdm>=4.36.1->prophet) (0.4.6)\n",
      "Requirement already satisfied: six>=1.5 in c:\\users\\deepak\\anaconda3\\lib\\site-packages (from python-dateutil->holidays>=0.25->prophet) (1.16.0)\n",
      "Installing collected packages: stanio, importlib-resources, holidays, cmdstanpy, prophet\n",
      "Successfully installed cmdstanpy-1.2.2 holidays-0.47 importlib-resources-6.4.0 prophet-1.1.5 stanio-0.5.0\n",
      "\n"
     ]
    }
   ],
   "source": [
    "pip install prophet"
   ]
  },
  {
   "cell_type": "code",
   "execution_count": 55,
   "id": "b07d85f1-31b7-4731-94f8-bbb378a7103f",
   "metadata": {},
   "outputs": [],
   "source": [
    "from prophet import Prophet"
   ]
  },
  {
   "cell_type": "code",
   "execution_count": 95,
   "id": "6e8bc4d2-df08-41cb-b5ef-59b78a9df2cf",
   "metadata": {},
   "outputs": [
    {
     "name": "stdout",
     "output_type": "stream",
     "text": [
      "Training set:  4874\n",
      "Test set:  90\n"
     ]
    }
   ],
   "source": [
    "train_samples = int(single_date.shape[0] * 0.982)\n",
    "\n",
    "train_set = single_date.iloc[:train_samples]\n",
    "test_set = single_date.iloc[train_samples:]\n",
    "\n",
    "print(\"Training set: \", train_set.shape[0])\n",
    "print(\"Test set: \", test_set.shape[0])"
   ]
  },
  {
   "cell_type": "code",
   "execution_count": 69,
   "id": "5946dd02",
   "metadata": {},
   "outputs": [
    {
     "data": {
      "text/plain": [
       "Created Date\n",
       "2010-01-01    2942\n",
       "2010-01-02    3958\n",
       "2010-01-03    5676\n",
       "2010-01-04    9763\n",
       "2010-01-05    8735\n",
       "Freq: D, dtype: int64"
      ]
     },
     "execution_count": 69,
     "metadata": {},
     "output_type": "execute_result"
    }
   ],
   "source": [
    "train_set.head()"
   ]
  },
  {
   "cell_type": "code",
   "execution_count": 70,
   "id": "698fa0d8",
   "metadata": {},
   "outputs": [],
   "source": [
    "train_set_prophet = train_set.reset_index()"
   ]
  },
  {
   "cell_type": "code",
   "execution_count": 71,
   "id": "5453cdb5",
   "metadata": {},
   "outputs": [
    {
     "data": {
      "text/html": [
       "<div>\n",
       "<style scoped>\n",
       "    .dataframe tbody tr th:only-of-type {\n",
       "        vertical-align: middle;\n",
       "    }\n",
       "\n",
       "    .dataframe tbody tr th {\n",
       "        vertical-align: top;\n",
       "    }\n",
       "\n",
       "    .dataframe thead th {\n",
       "        text-align: right;\n",
       "    }\n",
       "</style>\n",
       "<table border=\"1\" class=\"dataframe\">\n",
       "  <thead>\n",
       "    <tr style=\"text-align: right;\">\n",
       "      <th></th>\n",
       "      <th>ds</th>\n",
       "      <th>y</th>\n",
       "    </tr>\n",
       "  </thead>\n",
       "  <tbody>\n",
       "    <tr>\n",
       "      <th>0</th>\n",
       "      <td>2010-01-01</td>\n",
       "      <td>2942</td>\n",
       "    </tr>\n",
       "    <tr>\n",
       "      <th>1</th>\n",
       "      <td>2010-01-02</td>\n",
       "      <td>3958</td>\n",
       "    </tr>\n",
       "    <tr>\n",
       "      <th>2</th>\n",
       "      <td>2010-01-03</td>\n",
       "      <td>5676</td>\n",
       "    </tr>\n",
       "    <tr>\n",
       "      <th>3</th>\n",
       "      <td>2010-01-04</td>\n",
       "      <td>9763</td>\n",
       "    </tr>\n",
       "    <tr>\n",
       "      <th>4</th>\n",
       "      <td>2010-01-05</td>\n",
       "      <td>8735</td>\n",
       "    </tr>\n",
       "  </tbody>\n",
       "</table>\n",
       "</div>"
      ],
      "text/plain": [
       "          ds     y\n",
       "0 2010-01-01  2942\n",
       "1 2010-01-02  3958\n",
       "2 2010-01-03  5676\n",
       "3 2010-01-04  9763\n",
       "4 2010-01-05  8735"
      ]
     },
     "execution_count": 71,
     "metadata": {},
     "output_type": "execute_result"
    }
   ],
   "source": [
    "train_set_prophet.columns = ['ds', 'y']\n",
    "train_set_prophet.head()"
   ]
  },
  {
   "cell_type": "code",
   "execution_count": 72,
   "id": "02a2d0ac",
   "metadata": {},
   "outputs": [
    {
     "name": "stderr",
     "output_type": "stream",
     "text": [
      "17:27:10 - cmdstanpy - INFO - Chain [1] start processing\n",
      "17:27:11 - cmdstanpy - INFO - Chain [1] done processing\n"
     ]
    },
    {
     "data": {
      "text/plain": [
       "<prophet.forecaster.Prophet at 0x27957f132b0>"
      ]
     },
     "execution_count": 72,
     "metadata": {},
     "output_type": "execute_result"
    }
   ],
   "source": [
    "model = Prophet()\n",
    "model.fit(train_set_prophet)"
   ]
  },
  {
   "cell_type": "code",
   "execution_count": 74,
   "id": "27eafd8c",
   "metadata": {},
   "outputs": [
    {
     "data": {
      "text/html": [
       "<div>\n",
       "<style scoped>\n",
       "    .dataframe tbody tr th:only-of-type {\n",
       "        vertical-align: middle;\n",
       "    }\n",
       "\n",
       "    .dataframe tbody tr th {\n",
       "        vertical-align: top;\n",
       "    }\n",
       "\n",
       "    .dataframe thead th {\n",
       "        text-align: right;\n",
       "    }\n",
       "</style>\n",
       "<table border=\"1\" class=\"dataframe\">\n",
       "  <thead>\n",
       "    <tr style=\"text-align: right;\">\n",
       "      <th></th>\n",
       "      <th>ds</th>\n",
       "    </tr>\n",
       "  </thead>\n",
       "  <tbody>\n",
       "    <tr>\n",
       "      <th>4884</th>\n",
       "      <td>2024-03-31</td>\n",
       "    </tr>\n",
       "    <tr>\n",
       "      <th>4885</th>\n",
       "      <td>2024-04-30</td>\n",
       "    </tr>\n",
       "    <tr>\n",
       "      <th>4886</th>\n",
       "      <td>2024-05-31</td>\n",
       "    </tr>\n",
       "    <tr>\n",
       "      <th>4887</th>\n",
       "      <td>2024-06-30</td>\n",
       "    </tr>\n",
       "    <tr>\n",
       "      <th>4888</th>\n",
       "      <td>2024-07-31</td>\n",
       "    </tr>\n",
       "  </tbody>\n",
       "</table>\n",
       "</div>"
      ],
      "text/plain": [
       "             ds\n",
       "4884 2024-03-31\n",
       "4885 2024-04-30\n",
       "4886 2024-05-31\n",
       "4887 2024-06-30\n",
       "4888 2024-07-31"
      ]
     },
     "execution_count": 74,
     "metadata": {},
     "output_type": "execute_result"
    }
   ],
   "source": [
    "future = model.make_future_dataframe(periods=15,freq = 'm')\n",
    "future.tail()"
   ]
  },
  {
   "cell_type": "code",
   "execution_count": 75,
   "id": "25eba21e",
   "metadata": {},
   "outputs": [
    {
     "data": {
      "text/plain": [
       "(4889, 1)"
      ]
     },
     "execution_count": 75,
     "metadata": {},
     "output_type": "execute_result"
    }
   ],
   "source": [
    "future.shape"
   ]
  },
  {
   "cell_type": "code",
   "execution_count": 76,
   "id": "1786b481",
   "metadata": {},
   "outputs": [],
   "source": [
    "forecast = model.predict(future)"
   ]
  },
  {
   "cell_type": "code",
   "execution_count": 77,
   "id": "810c354b",
   "metadata": {},
   "outputs": [
    {
     "data": {
      "text/plain": [
       "Index(['ds', 'trend', 'yhat_lower', 'yhat_upper', 'trend_lower', 'trend_upper',\n",
       "       'additive_terms', 'additive_terms_lower', 'additive_terms_upper',\n",
       "       'weekly', 'weekly_lower', 'weekly_upper', 'yearly', 'yearly_lower',\n",
       "       'yearly_upper', 'multiplicative_terms', 'multiplicative_terms_lower',\n",
       "       'multiplicative_terms_upper', 'yhat'],\n",
       "      dtype='object')"
      ]
     },
     "execution_count": 77,
     "metadata": {},
     "output_type": "execute_result"
    }
   ],
   "source": [
    "forecast.columns"
   ]
  },
  {
   "cell_type": "code",
   "execution_count": 78,
   "id": "6f675dc8",
   "metadata": {},
   "outputs": [
    {
     "data": {
      "text/html": [
       "<div>\n",
       "<style scoped>\n",
       "    .dataframe tbody tr th:only-of-type {\n",
       "        vertical-align: middle;\n",
       "    }\n",
       "\n",
       "    .dataframe tbody tr th {\n",
       "        vertical-align: top;\n",
       "    }\n",
       "\n",
       "    .dataframe thead th {\n",
       "        text-align: right;\n",
       "    }\n",
       "</style>\n",
       "<table border=\"1\" class=\"dataframe\">\n",
       "  <thead>\n",
       "    <tr style=\"text-align: right;\">\n",
       "      <th></th>\n",
       "      <th>ds</th>\n",
       "      <th>trend</th>\n",
       "      <th>yhat_lower</th>\n",
       "      <th>yhat_upper</th>\n",
       "      <th>trend_lower</th>\n",
       "      <th>trend_upper</th>\n",
       "      <th>additive_terms</th>\n",
       "      <th>additive_terms_lower</th>\n",
       "      <th>additive_terms_upper</th>\n",
       "      <th>weekly</th>\n",
       "      <th>weekly_lower</th>\n",
       "      <th>weekly_upper</th>\n",
       "      <th>yearly</th>\n",
       "      <th>yearly_lower</th>\n",
       "      <th>yearly_upper</th>\n",
       "      <th>multiplicative_terms</th>\n",
       "      <th>multiplicative_terms_lower</th>\n",
       "      <th>multiplicative_terms_upper</th>\n",
       "      <th>yhat</th>\n",
       "    </tr>\n",
       "  </thead>\n",
       "  <tbody>\n",
       "    <tr>\n",
       "      <th>0</th>\n",
       "      <td>2010-01-01</td>\n",
       "      <td>5947.298680</td>\n",
       "      <td>4345.189419</td>\n",
       "      <td>7032.580179</td>\n",
       "      <td>5947.298680</td>\n",
       "      <td>5947.298680</td>\n",
       "      <td>-342.691881</td>\n",
       "      <td>-342.691881</td>\n",
       "      <td>-342.691881</td>\n",
       "      <td>183.220793</td>\n",
       "      <td>183.220793</td>\n",
       "      <td>183.220793</td>\n",
       "      <td>-525.912675</td>\n",
       "      <td>-525.912675</td>\n",
       "      <td>-525.912675</td>\n",
       "      <td>0.0</td>\n",
       "      <td>0.0</td>\n",
       "      <td>0.0</td>\n",
       "      <td>5604.606799</td>\n",
       "    </tr>\n",
       "    <tr>\n",
       "      <th>1</th>\n",
       "      <td>2010-01-02</td>\n",
       "      <td>5946.304865</td>\n",
       "      <td>2896.888700</td>\n",
       "      <td>5732.747218</td>\n",
       "      <td>5946.304865</td>\n",
       "      <td>5946.304865</td>\n",
       "      <td>-1584.577300</td>\n",
       "      <td>-1584.577300</td>\n",
       "      <td>-1584.577300</td>\n",
       "      <td>-1101.553317</td>\n",
       "      <td>-1101.553317</td>\n",
       "      <td>-1101.553317</td>\n",
       "      <td>-483.023983</td>\n",
       "      <td>-483.023983</td>\n",
       "      <td>-483.023983</td>\n",
       "      <td>0.0</td>\n",
       "      <td>0.0</td>\n",
       "      <td>0.0</td>\n",
       "      <td>4361.727564</td>\n",
       "    </tr>\n",
       "    <tr>\n",
       "      <th>2</th>\n",
       "      <td>2010-01-03</td>\n",
       "      <td>5945.311049</td>\n",
       "      <td>2768.543152</td>\n",
       "      <td>5640.029974</td>\n",
       "      <td>5945.311049</td>\n",
       "      <td>5945.311049</td>\n",
       "      <td>-1771.815317</td>\n",
       "      <td>-1771.815317</td>\n",
       "      <td>-1771.815317</td>\n",
       "      <td>-1337.411831</td>\n",
       "      <td>-1337.411831</td>\n",
       "      <td>-1337.411831</td>\n",
       "      <td>-434.403486</td>\n",
       "      <td>-434.403486</td>\n",
       "      <td>-434.403486</td>\n",
       "      <td>0.0</td>\n",
       "      <td>0.0</td>\n",
       "      <td>0.0</td>\n",
       "      <td>4173.495732</td>\n",
       "    </tr>\n",
       "    <tr>\n",
       "      <th>3</th>\n",
       "      <td>2010-01-04</td>\n",
       "      <td>5944.317234</td>\n",
       "      <td>4870.417739</td>\n",
       "      <td>7538.410896</td>\n",
       "      <td>5944.317234</td>\n",
       "      <td>5944.317234</td>\n",
       "      <td>259.988751</td>\n",
       "      <td>259.988751</td>\n",
       "      <td>259.988751</td>\n",
       "      <td>640.820144</td>\n",
       "      <td>640.820144</td>\n",
       "      <td>640.820144</td>\n",
       "      <td>-380.831393</td>\n",
       "      <td>-380.831393</td>\n",
       "      <td>-380.831393</td>\n",
       "      <td>0.0</td>\n",
       "      <td>0.0</td>\n",
       "      <td>0.0</td>\n",
       "      <td>6204.305985</td>\n",
       "    </tr>\n",
       "    <tr>\n",
       "      <th>4</th>\n",
       "      <td>2010-01-05</td>\n",
       "      <td>5943.323419</td>\n",
       "      <td>4942.249713</td>\n",
       "      <td>7736.452925</td>\n",
       "      <td>5943.323419</td>\n",
       "      <td>5943.323419</td>\n",
       "      <td>373.479456</td>\n",
       "      <td>373.479456</td>\n",
       "      <td>373.479456</td>\n",
       "      <td>696.668755</td>\n",
       "      <td>696.668755</td>\n",
       "      <td>696.668755</td>\n",
       "      <td>-323.189299</td>\n",
       "      <td>-323.189299</td>\n",
       "      <td>-323.189299</td>\n",
       "      <td>0.0</td>\n",
       "      <td>0.0</td>\n",
       "      <td>0.0</td>\n",
       "      <td>6316.802875</td>\n",
       "    </tr>\n",
       "  </tbody>\n",
       "</table>\n",
       "</div>"
      ],
      "text/plain": [
       "          ds        trend   yhat_lower   yhat_upper  trend_lower  trend_upper  \\\n",
       "0 2010-01-01  5947.298680  4345.189419  7032.580179  5947.298680  5947.298680   \n",
       "1 2010-01-02  5946.304865  2896.888700  5732.747218  5946.304865  5946.304865   \n",
       "2 2010-01-03  5945.311049  2768.543152  5640.029974  5945.311049  5945.311049   \n",
       "3 2010-01-04  5944.317234  4870.417739  7538.410896  5944.317234  5944.317234   \n",
       "4 2010-01-05  5943.323419  4942.249713  7736.452925  5943.323419  5943.323419   \n",
       "\n",
       "   additive_terms  additive_terms_lower  additive_terms_upper       weekly  \\\n",
       "0     -342.691881           -342.691881           -342.691881   183.220793   \n",
       "1    -1584.577300          -1584.577300          -1584.577300 -1101.553317   \n",
       "2    -1771.815317          -1771.815317          -1771.815317 -1337.411831   \n",
       "3      259.988751            259.988751            259.988751   640.820144   \n",
       "4      373.479456            373.479456            373.479456   696.668755   \n",
       "\n",
       "   weekly_lower  weekly_upper      yearly  yearly_lower  yearly_upper  \\\n",
       "0    183.220793    183.220793 -525.912675   -525.912675   -525.912675   \n",
       "1  -1101.553317  -1101.553317 -483.023983   -483.023983   -483.023983   \n",
       "2  -1337.411831  -1337.411831 -434.403486   -434.403486   -434.403486   \n",
       "3    640.820144    640.820144 -380.831393   -380.831393   -380.831393   \n",
       "4    696.668755    696.668755 -323.189299   -323.189299   -323.189299   \n",
       "\n",
       "   multiplicative_terms  multiplicative_terms_lower  \\\n",
       "0                   0.0                         0.0   \n",
       "1                   0.0                         0.0   \n",
       "2                   0.0                         0.0   \n",
       "3                   0.0                         0.0   \n",
       "4                   0.0                         0.0   \n",
       "\n",
       "   multiplicative_terms_upper         yhat  \n",
       "0                         0.0  5604.606799  \n",
       "1                         0.0  4361.727564  \n",
       "2                         0.0  4173.495732  \n",
       "3                         0.0  6204.305985  \n",
       "4                         0.0  6316.802875  "
      ]
     },
     "execution_count": 78,
     "metadata": {},
     "output_type": "execute_result"
    }
   ],
   "source": [
    "forecast.head()"
   ]
  },
  {
   "cell_type": "code",
   "execution_count": 102,
   "id": "ac997741",
   "metadata": {},
   "outputs": [
    {
     "data": {
      "text/html": [
       "<div>\n",
       "<style scoped>\n",
       "    .dataframe tbody tr th:only-of-type {\n",
       "        vertical-align: middle;\n",
       "    }\n",
       "\n",
       "    .dataframe tbody tr th {\n",
       "        vertical-align: top;\n",
       "    }\n",
       "\n",
       "    .dataframe thead th {\n",
       "        text-align: right;\n",
       "    }\n",
       "</style>\n",
       "<table border=\"1\" class=\"dataframe\">\n",
       "  <thead>\n",
       "    <tr style=\"text-align: right;\">\n",
       "      <th></th>\n",
       "      <th>Prediction</th>\n",
       "    </tr>\n",
       "    <tr>\n",
       "      <th>Date</th>\n",
       "      <th></th>\n",
       "    </tr>\n",
       "  </thead>\n",
       "  <tbody>\n",
       "    <tr>\n",
       "      <th>2023-02-21</th>\n",
       "      <td>9164.001313</td>\n",
       "    </tr>\n",
       "    <tr>\n",
       "      <th>2023-02-22</th>\n",
       "      <td>9013.027925</td>\n",
       "    </tr>\n",
       "    <tr>\n",
       "      <th>2023-02-23</th>\n",
       "      <td>8875.031033</td>\n",
       "    </tr>\n",
       "    <tr>\n",
       "      <th>2023-02-24</th>\n",
       "      <td>8684.691150</td>\n",
       "    </tr>\n",
       "    <tr>\n",
       "      <th>2023-02-25</th>\n",
       "      <td>7409.759477</td>\n",
       "    </tr>\n",
       "    <tr>\n",
       "      <th>...</th>\n",
       "      <td>...</td>\n",
       "    </tr>\n",
       "    <tr>\n",
       "      <th>2024-03-31</th>\n",
       "      <td>6815.419679</td>\n",
       "    </tr>\n",
       "    <tr>\n",
       "      <th>2024-04-30</th>\n",
       "      <td>9087.615065</td>\n",
       "    </tr>\n",
       "    <tr>\n",
       "      <th>2024-05-31</th>\n",
       "      <td>8818.569407</td>\n",
       "    </tr>\n",
       "    <tr>\n",
       "      <th>2024-06-30</th>\n",
       "      <td>7649.427549</td>\n",
       "    </tr>\n",
       "    <tr>\n",
       "      <th>2024-07-31</th>\n",
       "      <td>9409.303600</td>\n",
       "    </tr>\n",
       "  </tbody>\n",
       "</table>\n",
       "<p>90 rows × 1 columns</p>\n",
       "</div>"
      ],
      "text/plain": [
       "             Prediction\n",
       "Date                   \n",
       "2023-02-21  9164.001313\n",
       "2023-02-22  9013.027925\n",
       "2023-02-23  8875.031033\n",
       "2023-02-24  8684.691150\n",
       "2023-02-25  7409.759477\n",
       "...                 ...\n",
       "2024-03-31  6815.419679\n",
       "2024-04-30  9087.615065\n",
       "2024-05-31  8818.569407\n",
       "2024-06-30  7649.427549\n",
       "2024-07-31  9409.303600\n",
       "\n",
       "[90 rows x 1 columns]"
      ]
     },
     "execution_count": 102,
     "metadata": {},
     "output_type": "execute_result"
    }
   ],
   "source": [
    "preds = pd.DataFrame({'Prediction': forecast.yhat[-90:]})\n",
    "preds.index = pd.to_datetime(forecast.ds[-90:])\n",
    "preds.index.names = ['Date']\n",
    "preds"
   ]
  },
  {
   "cell_type": "code",
   "execution_count": 103,
   "id": "f760fa3b",
   "metadata": {},
   "outputs": [
    {
     "data": {
      "text/html": [
       "<div>\n",
       "<style scoped>\n",
       "    .dataframe tbody tr th:only-of-type {\n",
       "        vertical-align: middle;\n",
       "    }\n",
       "\n",
       "    .dataframe tbody tr th {\n",
       "        vertical-align: top;\n",
       "    }\n",
       "\n",
       "    .dataframe thead th {\n",
       "        text-align: right;\n",
       "    }\n",
       "</style>\n",
       "<table border=\"1\" class=\"dataframe\">\n",
       "  <thead>\n",
       "    <tr style=\"text-align: right;\">\n",
       "      <th></th>\n",
       "      <th>y_test</th>\n",
       "      <th>y_pred</th>\n",
       "      <th>diff</th>\n",
       "    </tr>\n",
       "  </thead>\n",
       "  <tbody>\n",
       "    <tr>\n",
       "      <th>2023-02-21</th>\n",
       "      <td>NaN</td>\n",
       "      <td>9164.001313</td>\n",
       "      <td>NaN</td>\n",
       "    </tr>\n",
       "    <tr>\n",
       "      <th>2023-02-22</th>\n",
       "      <td>NaN</td>\n",
       "      <td>9013.027925</td>\n",
       "      <td>NaN</td>\n",
       "    </tr>\n",
       "    <tr>\n",
       "      <th>2023-02-23</th>\n",
       "      <td>NaN</td>\n",
       "      <td>8875.031033</td>\n",
       "      <td>NaN</td>\n",
       "    </tr>\n",
       "    <tr>\n",
       "      <th>2023-02-24</th>\n",
       "      <td>NaN</td>\n",
       "      <td>8684.691150</td>\n",
       "      <td>NaN</td>\n",
       "    </tr>\n",
       "    <tr>\n",
       "      <th>2023-02-25</th>\n",
       "      <td>NaN</td>\n",
       "      <td>7409.759477</td>\n",
       "      <td>NaN</td>\n",
       "    </tr>\n",
       "    <tr>\n",
       "      <th>...</th>\n",
       "      <td>...</td>\n",
       "      <td>...</td>\n",
       "      <td>...</td>\n",
       "    </tr>\n",
       "    <tr>\n",
       "      <th>2024-03-31</th>\n",
       "      <td>NaN</td>\n",
       "      <td>6815.419679</td>\n",
       "      <td>NaN</td>\n",
       "    </tr>\n",
       "    <tr>\n",
       "      <th>2024-04-30</th>\n",
       "      <td>NaN</td>\n",
       "      <td>9087.615065</td>\n",
       "      <td>NaN</td>\n",
       "    </tr>\n",
       "    <tr>\n",
       "      <th>2024-05-31</th>\n",
       "      <td>NaN</td>\n",
       "      <td>8818.569407</td>\n",
       "      <td>NaN</td>\n",
       "    </tr>\n",
       "    <tr>\n",
       "      <th>2024-06-30</th>\n",
       "      <td>NaN</td>\n",
       "      <td>7649.427549</td>\n",
       "      <td>NaN</td>\n",
       "    </tr>\n",
       "    <tr>\n",
       "      <th>2024-07-31</th>\n",
       "      <td>NaN</td>\n",
       "      <td>9409.303600</td>\n",
       "      <td>NaN</td>\n",
       "    </tr>\n",
       "  </tbody>\n",
       "</table>\n",
       "<p>177 rows × 3 columns</p>\n",
       "</div>"
      ],
      "text/plain": [
       "            y_test       y_pred  diff\n",
       "2023-02-21     NaN  9164.001313   NaN\n",
       "2023-02-22     NaN  9013.027925   NaN\n",
       "2023-02-23     NaN  8875.031033   NaN\n",
       "2023-02-24     NaN  8684.691150   NaN\n",
       "2023-02-25     NaN  7409.759477   NaN\n",
       "...            ...          ...   ...\n",
       "2024-03-31     NaN  6815.419679   NaN\n",
       "2024-04-30     NaN  9087.615065   NaN\n",
       "2024-05-31     NaN  8818.569407   NaN\n",
       "2024-06-30     NaN  7649.427549   NaN\n",
       "2024-07-31     NaN  9409.303600   NaN\n",
       "\n",
       "[177 rows x 3 columns]"
      ]
     },
     "execution_count": 103,
     "metadata": {},
     "output_type": "execute_result"
    }
   ],
   "source": [
    "y_test = test_set \n",
    "y_pred = preds['Prediction']\n",
    "pd.DataFrame({'y_test': y_test, 'y_pred' : y_pred, 'diff':y_test - y_pred})"
   ]
  },
  {
   "cell_type": "code",
   "execution_count": 104,
   "id": "55ecd0e1",
   "metadata": {},
   "outputs": [
    {
     "name": "stdout",
     "output_type": "stream",
     "text": [
      "MSE =  2753618.520807055\n",
      "RMSE =  1659.4030615878273\n",
      "MAE =  1173.643060205517\n"
     ]
    }
   ],
   "source": [
    "from sklearn.metrics import mean_absolute_error, mean_squared_error\n",
    "print('MSE = ', mean_squared_error(y_test,y_pred))\n",
    "print('RMSE = ', np.sqrt(mean_squared_error(y_test,y_pred)))\n",
    "print('MAE = ', mean_absolute_error(y_test,y_pred))"
   ]
  },
  {
   "cell_type": "markdown",
   "id": "55c4e55e",
   "metadata": {},
   "source": [
    "|Created By|Contact|\n",
    "|----------|-------|\n",
    "|Sai Deepak Reddy Kothi|deepak.reddy0106@gmail.com|"
   ]
  },
  {
   "cell_type": "code",
   "execution_count": null,
   "id": "1c46a480",
   "metadata": {},
   "outputs": [],
   "source": []
  }
 ],
 "metadata": {
  "kernelspec": {
   "display_name": "Python 3 (ipykernel)",
   "language": "python",
   "name": "python3"
  },
  "language_info": {
   "codemirror_mode": {
    "name": "ipython",
    "version": 3
   },
   "file_extension": ".py",
   "mimetype": "text/x-python",
   "name": "python",
   "nbconvert_exporter": "python",
   "pygments_lexer": "ipython3",
   "version": "3.10.9"
  }
 },
 "nbformat": 4,
 "nbformat_minor": 5
}
